{
 "cells": [
  {
   "cell_type": "code",
   "execution_count": 8,
   "metadata": {},
   "outputs": [],
   "source": [
    "import pickle\n",
    "import pandas as pd"
   ]
  },
  {
   "cell_type": "code",
   "execution_count": 9,
   "metadata": {},
   "outputs": [],
   "source": [
    "model = pd.read_pickle('1model.pickle')"
   ]
  },
  {
   "cell_type": "code",
   "execution_count": 10,
   "metadata": {},
   "outputs": [
    {
     "name": "stdout",
     "output_type": "stream",
     "text": [
      "Enter loan_amnt [500 To 29000] :15000\n",
      "Enter terms [36 OR 60] :36\n",
      "Enter Rate_of_intrst [5 To 23] :15\n",
      "Enter grade [1 To 7] :4\n",
      "Enter Experience [0 To 10] :4\n",
      "Enter annual_inc [1896 T0 125000] :55000\n",
      "Enter verification_status [1 To 3] :2\n",
      "Enter debt_income_ratio [0 To 40] :20\n",
      "Enter numb_credit [0 To 22] :15\n",
      "Enter total_credits [0 To 48] :25\n",
      "Enter total_rec_int [0 To 3700] :1500\n",
      "Enter last_week_pay [0 To 160] :20\n",
      "Enter tot_curr_bal [0 To 300000] :25000\n",
      "Enter MORTGAGE [0 OR 1] :0\n",
      "Enter OWN [0 OR 1] :0\n",
      "Enter RENT [0 OR 1] :1\n",
      "Enter Cars and Major purchases [0 OR 1] :0\n",
      "Enter House and house imporovements [0 OR 1] :1\n",
      "Enter Wedding and Vacation [0 OR 1] :0\n",
      "Enter credit_card [0 OR 1] :0\n",
      "Enter debt_consolidation [0 OR 1] :0\n",
      "Enter medical [0 OR 1] :0\n",
      "Enter small_business [0 OR 1] :1\n",
      "Enter f [0 OR 1] :0\n",
      "--------------------------------------------\n"
     ]
    }
   ],
   "source": [
    "loanamnt = int(input(\"Enter loan_amnt [500 To 29000] :\"))\n",
    "terms = int(input(\"Enter terms [36 OR 60] :\"))\n",
    "Rateofintrst = int(input(\"Enter Rate_of_intrst [5 To 23] :\"))\n",
    "grade = int(input(\"Enter grade [1 To 7] :\"))\n",
    "Experience = int(input(\"Enter Experience [0 To 10] :\"))\n",
    "annualinc = int(input(\"Enter annual_inc [1896 T0 125000] :\"))\n",
    "verificationstatus = int(input(\"Enter verification_status [1 To 3] :\"))\n",
    "debtincomeratio = int(input(\"Enter debt_income_ratio [0 To 40] :\"))\n",
    "numbcredit = int(input(\"Enter numb_credit [0 To 22] :\"))\n",
    "totalcredits = int(input(\"Enter total_credits [0 To 48] :\"))\n",
    "totalrecint = int(input(\"Enter total_rec_int [0 To 3700] :\"))\n",
    "lastweekpay = int(input(\"Enter last_week_pay [0 To 160] :\"))\n",
    "totcurrbal = int(input(\"Enter tot_curr_bal [0 To 300000] :\"))\n",
    "MORTGAGE = int(input(\"Enter MORTGAGE [0 OR 1] :\"))\n",
    "OWN = int(input(\"Enter OWN [0 OR 1] :\"))\n",
    "RENT = int(input(\"Enter RENT [0 OR 1] :\"))\n",
    "CarsMajorpurchases = int(input(\"Enter Cars and Major purchases [0 OR 1] :\"))\n",
    "Househouseimporovements = int(input(\"Enter House and house imporovements [0 OR 1] :\"))\n",
    "WeddingVacation = int(input(\"Enter Wedding and Vacation [0 OR 1] :\"))\n",
    "creditcard = int(input(\"Enter credit_card [0 OR 1] :\"))\n",
    "debtconsolidation = int(input(\"Enter debt_consolidation [0 OR 1] :\"))\n",
    "medical = int(input(\"Enter medical [0 OR 1] :\"))\n",
    "smallbusiness = int(input(\"Enter small_business [0 OR 1] :\"))\n",
    "f = int(input(\"Enter f [0 OR 1] :\"))\n",
    "print('--------------------------------------------')\n"
   ]
  },
  {
   "cell_type": "code",
   "execution_count": 11,
   "metadata": {},
   "outputs": [
    {
     "name": "stdout",
     "output_type": "stream",
     "text": [
      "totalrevolbalpredicted:16821.03\n"
     ]
    }
   ],
   "source": [
    "totalrevolbalpredicted=model.predict([[loanamnt,terms,Rateofintrst,grade,Experience,annualinc,verificationstatus,debtincomeratio,numbcredit,totalcredits,totalrecint,lastweekpay,totcurrbal,MORTGAGE,OWN,RENT,CarsMajorpurchases,Househouseimporovements,WeddingVacation,creditcard,debtconsolidation,medical,smallbusiness,f]])\n",
    "totalrevolbalpredicted=totalrevolbalpredicted[0]\n",
    "print(f'totalrevolbalpredicted:{totalrevolbalpredicted:.2f}')"
   ]
  },
  {
   "cell_type": "code",
   "execution_count": null,
   "metadata": {},
   "outputs": [],
   "source": []
  }
 ],
 "metadata": {
  "kernelspec": {
   "display_name": "Python 3",
   "language": "python",
   "name": "python3"
  },
  "language_info": {
   "codemirror_mode": {
    "name": "ipython",
    "version": 3
   },
   "file_extension": ".py",
   "mimetype": "text/x-python",
   "name": "python",
   "nbconvert_exporter": "python",
   "pygments_lexer": "ipython3",
   "version": "3.6.10"
  }
 },
 "nbformat": 4,
 "nbformat_minor": 4
}
